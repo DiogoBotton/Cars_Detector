{
 "cells": [
  {
   "cell_type": "markdown",
   "metadata": {},
   "source": [
    "Neste notebook iremos **pré-processar os dados** e **exporta-los** em formato *.pkle* (*pickle*) para posterior treinamento do modelo, ou seja:\n",
    "- A partir do json *carros_rotulados.json*, adquirir os valores **x,y,width e height** das posições dos carros em cada imagem.\n",
    "- Criar dois arrays, onde em um terá as imagens e no outro o array de posições dos carros em cada imagem. (x,y,w e h).\n",
    "- Redimensionar as imagens para um tamanho fixo.\n",
    "- Normalizar os valores dos pixels para o intervalo de 0 a 1.\n",
    "\n",
    "Foi realizado a rotulagem de 10 imagens com 5 rótulos cada.\n",
    "- Necessário ser a mesma quantidade de rótulos para cada imagem para funcionar corretamente no Keras."
   ]
  },
  {
   "cell_type": "code",
   "execution_count": 1,
   "metadata": {},
   "outputs": [],
   "source": [
    "import json\n",
    "import os\n",
    "import cv2\n",
    "import numpy as np\n",
    "import pickle"
   ]
  },
  {
   "cell_type": "code",
   "execution_count": 2,
   "metadata": {},
   "outputs": [],
   "source": [
    "def load_data(path: str, resized = (128,128)):\n",
    "    images = []\n",
    "    labels = []\n",
    "    new_width, new_height = resized\n",
    "\n",
    "    # Abre e lê o arquivo json\n",
    "    with open(path, 'r') as f:\n",
    "        data = json.load(f)\n",
    "    \n",
    "    # Itera sobre o array do json\n",
    "    for item in data:\n",
    "        # Adquire o caminho da imagem (split para remover o id inicial gerado pelo labelStudio e adquirir o nome real)\n",
    "        image_path = item['file_upload'].split('-',1)[1]\n",
    "        image_path = os.path.join('train_images', image_path)\n",
    "        \n",
    "        # Lê a imagem e em seguida converte para escala de cinza\n",
    "        img = cv2.imread(image_path)\n",
    "        img = cv2.cvtColor(img, cv2.COLOR_BGR2GRAY)\n",
    "        \n",
    "        original_h, original_w = img.shape\n",
    "        # Redimensiona a imagem sem perder a proporção com interpolação\n",
    "        img = cv2.resize(img, (new_width, new_height),\n",
    "                         interpolation=cv2.INTER_LANCZOS4)\n",
    "        \n",
    "        # Adiciona 1 canal para o keras interpretar corretamente, ou seja de (128, 128) ficará (128,128,1)\n",
    "        img = np.expand_dims(img, axis=-1)\n",
    "        \n",
    "        # Itera sobre as anotações da imagem atual\n",
    "        label_boxes = []\n",
    "        for annotation in item['annotations']:\n",
    "            for result in annotation['result']:\n",
    "                value = result['value']\n",
    "                x, y, w, h = value['x'], value['y'], value['width'], value['height']\n",
    "\n",
    "                # Ajusta a caixa delimitadora com as mesmas proporporções do redimensionamento\n",
    "                x_ratio = (new_width / original_w)\n",
    "                y_ratio = (new_height / original_h)\n",
    "\n",
    "                coords = [\n",
    "                    (x * x_ratio),\n",
    "                    (y * y_ratio),\n",
    "                    (w * x_ratio),\n",
    "                    (h * y_ratio)\n",
    "                ]\n",
    "                label_boxes.append(coords)\n",
    "                \n",
    "\n",
    "        # Adiciona imagem e labels no array\n",
    "        images.append(img)\n",
    "        labels.append(label_boxes)\n",
    "\n",
    "    # Converte para array numpy e normaliza as imagens para o intervalo de 0 a 1\n",
    "    images = np.array(images, dtype='float32') / 255.0\n",
    "\n",
    "    #'dtype object' para não dar erro em caso de array não homogeneo (com dimensões diferentes)\n",
    "    labels = np.array(labels, dtype='float32')\n",
    "\n",
    "    # Padroniza as labels para o formato [numero_imagens, 5*4]\n",
    "    labels = labels.reshape((labels.shape[0], -1))\n",
    "        \n",
    "    return images, labels\n",
    "        \n"
   ]
  },
  {
   "cell_type": "code",
   "execution_count": 3,
   "metadata": {},
   "outputs": [],
   "source": [
    "images, labels = load_data('carros_rotulados.json')"
   ]
  },
  {
   "cell_type": "code",
   "execution_count": 4,
   "metadata": {},
   "outputs": [
    {
     "name": "stdout",
     "output_type": "stream",
     "text": [
      "Dados de carros salvos com pickle.\n"
     ]
    }
   ],
   "source": [
    "# Salva os dados em um arquivo binário, a variável 'f' representa o objeto do arquivo aberto\n",
    "with open('cars.pkl', 'wb') as f: # wb (write binary) irá criar o arquivo caso não exista, caso exista irá sobrescrever\n",
    "    pickle.dump((images, labels), f)\n",
    "\n",
    "print('Dados de carros salvos com pickle.')"
   ]
  }
 ],
 "metadata": {
  "kernelspec": {
   "display_name": "Python 3",
   "language": "python",
   "name": "python3"
  },
  "language_info": {
   "codemirror_mode": {
    "name": "ipython",
    "version": 3
   },
   "file_extension": ".py",
   "mimetype": "text/x-python",
   "name": "python",
   "nbconvert_exporter": "python",
   "pygments_lexer": "ipython3",
   "version": "3.10.10"
  }
 },
 "nbformat": 4,
 "nbformat_minor": 2
}
